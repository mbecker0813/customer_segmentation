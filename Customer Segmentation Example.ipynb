{
 "cells": [
  {
   "cell_type": "markdown",
   "metadata": {},
   "source": [
    "# Segmenting Customers with Python"
   ]
  },
  {
   "cell_type": "markdown",
   "metadata": {},
   "source": [
    "## Import Data\n",
    "Import our needed libraries and the Excel sheet to the dataframe **df**."
   ]
  },
  {
   "cell_type": "code",
   "execution_count": 1,
   "metadata": {
    "collapsed": true
   },
   "outputs": [],
   "source": [
    "%matplotlib inline\n",
    "import pandas as pd\n",
    "import matplotlib.pyplot as plt\n",
    "import numpy as np"
   ]
  },
  {
   "cell_type": "code",
   "execution_count": 2,
   "metadata": {
    "collapsed": false
   },
   "outputs": [
    {
     "data": {
      "text/html": [
       "<div>\n",
       "<table border=\"1\" class=\"dataframe\">\n",
       "  <thead>\n",
       "    <tr style=\"text-align: right;\">\n",
       "      <th></th>\n",
       "      <th>Invoice Number</th>\n",
       "      <th>Product Key</th>\n",
       "      <th>Title</th>\n",
       "      <th>Qty Ordered</th>\n",
       "      <th>Invoice Date</th>\n",
       "      <th>Net Price</th>\n",
       "      <th>Customer Key</th>\n",
       "      <th>Customer Name</th>\n",
       "      <th>State</th>\n",
       "      <th>Vendor Key</th>\n",
       "    </tr>\n",
       "  </thead>\n",
       "  <tbody>\n",
       "    <tr>\n",
       "      <th>0</th>\n",
       "      <td>891506</td>\n",
       "      <td>1404256598</td>\n",
       "      <td>PLAY BALL</td>\n",
       "      <td>6</td>\n",
       "      <td>2020-07-01</td>\n",
       "      <td>3.09</td>\n",
       "      <td>006344</td>\n",
       "      <td>THE FOREIGN BUYERS' CLUB</td>\n",
       "      <td>CA</td>\n",
       "      <td>ROSNP</td>\n",
       "    </tr>\n",
       "    <tr>\n",
       "      <th>1</th>\n",
       "      <td>891506</td>\n",
       "      <td>9781480745230</td>\n",
       "      <td>WHAT DO LIVING THINGS NEED</td>\n",
       "      <td>6</td>\n",
       "      <td>2020-07-01</td>\n",
       "      <td>5.99</td>\n",
       "      <td>006344</td>\n",
       "      <td>THE FOREIGN BUYERS' CLUB</td>\n",
       "      <td>CA</td>\n",
       "      <td>SHELE</td>\n",
       "    </tr>\n",
       "    <tr>\n",
       "      <th>2</th>\n",
       "      <td>891506</td>\n",
       "      <td>9781598451603</td>\n",
       "      <td>ALL ABOUT BABY ANIMALS BABY SNOW ANIMALS</td>\n",
       "      <td>6</td>\n",
       "      <td>2020-07-01</td>\n",
       "      <td>5.61</td>\n",
       "      <td>006344</td>\n",
       "      <td>THE FOREIGN BUYERS' CLUB</td>\n",
       "      <td>CA</td>\n",
       "      <td>ENSLO</td>\n",
       "    </tr>\n",
       "    <tr>\n",
       "      <th>3</th>\n",
       "      <td>891506</td>\n",
       "      <td>9781598451610</td>\n",
       "      <td>ALL ABOUT BABY ANIMALS BABY FOREST ANIMALS</td>\n",
       "      <td>6</td>\n",
       "      <td>2020-07-01</td>\n",
       "      <td>5.61</td>\n",
       "      <td>006344</td>\n",
       "      <td>THE FOREIGN BUYERS' CLUB</td>\n",
       "      <td>CA</td>\n",
       "      <td>ENSLO</td>\n",
       "    </tr>\n",
       "    <tr>\n",
       "      <th>4</th>\n",
       "      <td>891506</td>\n",
       "      <td>9781877506079</td>\n",
       "      <td>OUT IN SPACE</td>\n",
       "      <td>6</td>\n",
       "      <td>2020-07-01</td>\n",
       "      <td>4.20</td>\n",
       "      <td>006344</td>\n",
       "      <td>THE FOREIGN BUYERS' CLUB</td>\n",
       "      <td>CA</td>\n",
       "      <td>FLYSB</td>\n",
       "    </tr>\n",
       "  </tbody>\n",
       "</table>\n",
       "</div>"
      ],
      "text/plain": [
       "   Invoice Number    Product Key                                       Title  \\\n",
       "0          891506     1404256598                                   PLAY BALL   \n",
       "1          891506  9781480745230                  WHAT DO LIVING THINGS NEED   \n",
       "2          891506  9781598451603    ALL ABOUT BABY ANIMALS BABY SNOW ANIMALS   \n",
       "3          891506  9781598451610  ALL ABOUT BABY ANIMALS BABY FOREST ANIMALS   \n",
       "4          891506  9781877506079                                OUT IN SPACE   \n",
       "\n",
       "   Qty Ordered Invoice Date  Net Price Customer Key             Customer Name  \\\n",
       "0            6   2020-07-01       3.09       006344  THE FOREIGN BUYERS' CLUB   \n",
       "1            6   2020-07-01       5.99       006344  THE FOREIGN BUYERS' CLUB   \n",
       "2            6   2020-07-01       5.61       006344  THE FOREIGN BUYERS' CLUB   \n",
       "3            6   2020-07-01       5.61       006344  THE FOREIGN BUYERS' CLUB   \n",
       "4            6   2020-07-01       4.20       006344  THE FOREIGN BUYERS' CLUB   \n",
       "\n",
       "  State Vendor Key  \n",
       "0    CA      ROSNP  \n",
       "1    CA      SHELE  \n",
       "2    CA      ENSLO  \n",
       "3    CA      ENSLO  \n",
       "4    CA      FLYSB  "
      ]
     },
     "execution_count": 2,
     "metadata": {},
     "output_type": "execute_result"
    }
   ],
   "source": [
    "df = pd.read_excel('sales_details.xlsx', sheet_name = 'Sheet1')\n",
    "df.columns = ['Invoice','Product','Title','Quantity','Date','Price','CustomerKey','Name','State','Vendor']\n",
    "df.head()"
   ]
  },
  {
   "cell_type": "markdown",
   "metadata": {},
   "source": [
    "## Data Cleanup\n",
    "This is a very important step! We need to perform the following functions:\n",
    "1. Remove cancelled orders (anything with a quantity of 0 or less)\n",
    "2. Remove records with missing CustomerID\n",
    "3. The dataset ends in a partial month so we need to exclude that month so that we are only handling complete months."
   ]
  },
  {
   "cell_type": "markdown",
   "metadata": {},
   "source": [
    "**Filtering to any quantities greater than 0**"
   ]
  },
  {
   "cell_type": "code",
   "execution_count": 4,
   "metadata": {
    "collapsed": true
   },
   "outputs": [],
   "source": [
    "df = df.loc[df['Quantity'] > 0]"
   ]
  },
  {
   "cell_type": "markdown",
   "metadata": {},
   "source": [
    "**Removing missing Customer Key rows**"
   ]
  },
  {
   "cell_type": "code",
   "execution_count": 5,
   "metadata": {
    "collapsed": true
   },
   "outputs": [],
   "source": [
    "df = df[pd.notnull(df['CustomerKey'])]"
   ]
  },
  {
   "cell_type": "markdown",
   "metadata": {},
   "source": [
    "**Excluding ending month which is a partial month**"
   ]
  },
  {
   "cell_type": "code",
   "execution_count": 6,
   "metadata": {
    "collapsed": true
   },
   "outputs": [],
   "source": [
    "#df = df.loc[df['InvoiceDate'] < '2011-12-01']"
   ]
  },
  {
   "cell_type": "markdown",
   "metadata": {},
   "source": [
    "## Feature Engineering\n",
    "We want to create some additional features that will be useful in our customer segmentation analysis.\n",
    "1. Compute total sales\n",
    "2. Aggregate and summarize our data by customer\n",
    "3. Normalize our data for easier machine learning"
   ]
  },
  {
   "cell_type": "markdown",
   "metadata": {},
   "source": [
    "**Computing total sales**"
   ]
  },
  {
   "cell_type": "code",
   "execution_count": 7,
   "metadata": {
    "collapsed": true
   },
   "outputs": [],
   "source": [
    "df['Sales'] = df['Quantity'] * df['Price']"
   ]
  },
  {
   "cell_type": "markdown",
   "metadata": {},
   "source": [
    "**Aggregate and summarize by customer**"
   ]
  },
  {
   "cell_type": "markdown",
   "metadata": {},
   "source": [
    "We want to determine the total sales amount, number of orders, and average order amounts."
   ]
  },
  {
   "cell_type": "code",
   "execution_count": 8,
   "metadata": {
    "collapsed": false
   },
   "outputs": [
    {
     "data": {
      "text/html": [
       "<div>\n",
       "<table border=\"1\" class=\"dataframe\">\n",
       "  <thead>\n",
       "    <tr style=\"text-align: right;\">\n",
       "      <th></th>\n",
       "      <th>TotalSales</th>\n",
       "      <th>OrderCount</th>\n",
       "    </tr>\n",
       "    <tr>\n",
       "      <th>CustomerKey</th>\n",
       "      <th></th>\n",
       "      <th></th>\n",
       "    </tr>\n",
       "  </thead>\n",
       "  <tbody>\n",
       "    <tr>\n",
       "      <th>000155</th>\n",
       "      <td>14104.74</td>\n",
       "      <td>7</td>\n",
       "    </tr>\n",
       "    <tr>\n",
       "      <th>000170</th>\n",
       "      <td>10730.16</td>\n",
       "      <td>4</td>\n",
       "    </tr>\n",
       "    <tr>\n",
       "      <th>000179</th>\n",
       "      <td>365.52</td>\n",
       "      <td>1</td>\n",
       "    </tr>\n",
       "    <tr>\n",
       "      <th>000182</th>\n",
       "      <td>2753.28</td>\n",
       "      <td>2</td>\n",
       "    </tr>\n",
       "    <tr>\n",
       "      <th>000238</th>\n",
       "      <td>9872.44</td>\n",
       "      <td>4</td>\n",
       "    </tr>\n",
       "  </tbody>\n",
       "</table>\n",
       "</div>"
      ],
      "text/plain": [
       "             TotalSales  OrderCount\n",
       "CustomerKey                        \n",
       "000155         14104.74           7\n",
       "000170         10730.16           4\n",
       "000179           365.52           1\n",
       "000182          2753.28           2\n",
       "000238          9872.44           4"
      ]
     },
     "execution_count": 8,
     "metadata": {},
     "output_type": "execute_result"
    }
   ],
   "source": [
    "customer_df = df.groupby('CustomerKey').agg({\n",
    "    'Sales': sum,\n",
    "    'Invoice': lambda x: x.nunique()\n",
    "})\n",
    "customer_df.columns = ['TotalSales','OrderCount']\n",
    "customer_df.head()"
   ]
  },
  {
   "cell_type": "code",
   "execution_count": 9,
   "metadata": {
    "collapsed": false,
    "scrolled": true
   },
   "outputs": [
    {
     "data": {
      "text/html": [
       "<div>\n",
       "<table border=\"1\" class=\"dataframe\">\n",
       "  <thead>\n",
       "    <tr style=\"text-align: right;\">\n",
       "      <th></th>\n",
       "      <th>TotalSales</th>\n",
       "      <th>OrderCount</th>\n",
       "      <th>AvgOrderValue</th>\n",
       "    </tr>\n",
       "    <tr>\n",
       "      <th>CustomerKey</th>\n",
       "      <th></th>\n",
       "      <th></th>\n",
       "      <th></th>\n",
       "    </tr>\n",
       "  </thead>\n",
       "  <tbody>\n",
       "    <tr>\n",
       "      <th>000155</th>\n",
       "      <td>14104.74</td>\n",
       "      <td>7</td>\n",
       "      <td>2014.962857</td>\n",
       "    </tr>\n",
       "    <tr>\n",
       "      <th>000170</th>\n",
       "      <td>10730.16</td>\n",
       "      <td>4</td>\n",
       "      <td>2682.540000</td>\n",
       "    </tr>\n",
       "    <tr>\n",
       "      <th>000179</th>\n",
       "      <td>365.52</td>\n",
       "      <td>1</td>\n",
       "      <td>365.520000</td>\n",
       "    </tr>\n",
       "    <tr>\n",
       "      <th>000182</th>\n",
       "      <td>2753.28</td>\n",
       "      <td>2</td>\n",
       "      <td>1376.640000</td>\n",
       "    </tr>\n",
       "    <tr>\n",
       "      <th>000238</th>\n",
       "      <td>9872.44</td>\n",
       "      <td>4</td>\n",
       "      <td>2468.110000</td>\n",
       "    </tr>\n",
       "    <tr>\n",
       "      <th>000244</th>\n",
       "      <td>4490.97</td>\n",
       "      <td>5</td>\n",
       "      <td>898.194000</td>\n",
       "    </tr>\n",
       "    <tr>\n",
       "      <th>000274</th>\n",
       "      <td>13161.83</td>\n",
       "      <td>5</td>\n",
       "      <td>2632.366000</td>\n",
       "    </tr>\n",
       "    <tr>\n",
       "      <th>000306</th>\n",
       "      <td>488.28</td>\n",
       "      <td>3</td>\n",
       "      <td>162.760000</td>\n",
       "    </tr>\n",
       "    <tr>\n",
       "      <th>000332</th>\n",
       "      <td>8594.14</td>\n",
       "      <td>8</td>\n",
       "      <td>1074.267500</td>\n",
       "    </tr>\n",
       "    <tr>\n",
       "      <th>000342</th>\n",
       "      <td>166.25</td>\n",
       "      <td>1</td>\n",
       "      <td>166.250000</td>\n",
       "    </tr>\n",
       "  </tbody>\n",
       "</table>\n",
       "</div>"
      ],
      "text/plain": [
       "             TotalSales  OrderCount  AvgOrderValue\n",
       "CustomerKey                                       \n",
       "000155         14104.74           7    2014.962857\n",
       "000170         10730.16           4    2682.540000\n",
       "000179           365.52           1     365.520000\n",
       "000182          2753.28           2    1376.640000\n",
       "000238          9872.44           4    2468.110000\n",
       "000244          4490.97           5     898.194000\n",
       "000274         13161.83           5    2632.366000\n",
       "000306           488.28           3     162.760000\n",
       "000332          8594.14           8    1074.267500\n",
       "000342           166.25           1     166.250000"
      ]
     },
     "execution_count": 9,
     "metadata": {},
     "output_type": "execute_result"
    }
   ],
   "source": [
    "customer_df['AvgOrderValue'] = customer_df['TotalSales']/customer_df['OrderCount']\n",
    "customer_df.head(10)"
   ]
  },
  {
   "cell_type": "markdown",
   "metadata": {},
   "source": [
    "Clustering algorithms are affected by the scale of the data so now we move to normalize the data. We do this in two parts. First, the data is transformed into its rank. Then, we normalize the ranked data. Through normalizing the data, the data is centered on the mean and the mean is **0** with a standard deviation of **1**."
   ]
  },
  {
   "cell_type": "code",
   "execution_count": 10,
   "metadata": {
    "collapsed": false
   },
   "outputs": [
    {
     "data": {
      "text/html": [
       "<div>\n",
       "<table border=\"1\" class=\"dataframe\">\n",
       "  <thead>\n",
       "    <tr style=\"text-align: right;\">\n",
       "      <th></th>\n",
       "      <th>TotalSales</th>\n",
       "      <th>OrderCount</th>\n",
       "      <th>AvgOrderValue</th>\n",
       "    </tr>\n",
       "    <tr>\n",
       "      <th>CustomerKey</th>\n",
       "      <th></th>\n",
       "      <th></th>\n",
       "      <th></th>\n",
       "    </tr>\n",
       "  </thead>\n",
       "  <tbody>\n",
       "    <tr>\n",
       "      <th>000155</th>\n",
       "      <td>1312.0</td>\n",
       "      <td>1256.0</td>\n",
       "      <td>1183.0</td>\n",
       "    </tr>\n",
       "    <tr>\n",
       "      <th>000170</th>\n",
       "      <td>1259.0</td>\n",
       "      <td>1101.0</td>\n",
       "      <td>1263.0</td>\n",
       "    </tr>\n",
       "    <tr>\n",
       "      <th>000179</th>\n",
       "      <td>434.0</td>\n",
       "      <td>1.0</td>\n",
       "      <td>563.0</td>\n",
       "    </tr>\n",
       "    <tr>\n",
       "      <th>000182</th>\n",
       "      <td>970.0</td>\n",
       "      <td>683.0</td>\n",
       "      <td>1068.0</td>\n",
       "    </tr>\n",
       "    <tr>\n",
       "      <th>000238</th>\n",
       "      <td>1252.0</td>\n",
       "      <td>1102.0</td>\n",
       "      <td>1239.0</td>\n",
       "    </tr>\n",
       "    <tr>\n",
       "      <th>000244</th>\n",
       "      <td>1079.0</td>\n",
       "      <td>1181.0</td>\n",
       "      <td>910.0</td>\n",
       "    </tr>\n",
       "    <tr>\n",
       "      <th>000274</th>\n",
       "      <td>1303.0</td>\n",
       "      <td>1182.0</td>\n",
       "      <td>1256.0</td>\n",
       "    </tr>\n",
       "    <tr>\n",
       "      <th>000306</th>\n",
       "      <td>501.0</td>\n",
       "      <td>972.0</td>\n",
       "      <td>281.0</td>\n",
       "    </tr>\n",
       "    <tr>\n",
       "      <th>000332</th>\n",
       "      <td>1224.0</td>\n",
       "      <td>1274.0</td>\n",
       "      <td>989.0</td>\n",
       "    </tr>\n",
       "    <tr>\n",
       "      <th>000342</th>\n",
       "      <td>239.0</td>\n",
       "      <td>2.0</td>\n",
       "      <td>286.0</td>\n",
       "    </tr>\n",
       "  </tbody>\n",
       "</table>\n",
       "</div>"
      ],
      "text/plain": [
       "             TotalSales  OrderCount  AvgOrderValue\n",
       "CustomerKey                                       \n",
       "000155           1312.0      1256.0         1183.0\n",
       "000170           1259.0      1101.0         1263.0\n",
       "000179            434.0         1.0          563.0\n",
       "000182            970.0       683.0         1068.0\n",
       "000238           1252.0      1102.0         1239.0\n",
       "000244           1079.0      1181.0          910.0\n",
       "000274           1303.0      1182.0         1256.0\n",
       "000306            501.0       972.0          281.0\n",
       "000332           1224.0      1274.0          989.0\n",
       "000342            239.0         2.0          286.0"
      ]
     },
     "execution_count": 10,
     "metadata": {},
     "output_type": "execute_result"
    }
   ],
   "source": [
    "rank_df = customer_df.rank(method = 'first')\n",
    "rank_df.head(10)"
   ]
  },
  {
   "cell_type": "code",
   "execution_count": 11,
   "metadata": {
    "collapsed": false
   },
   "outputs": [
    {
     "data": {
      "text/html": [
       "<div>\n",
       "<table border=\"1\" class=\"dataframe\">\n",
       "  <thead>\n",
       "    <tr style=\"text-align: right;\">\n",
       "      <th></th>\n",
       "      <th>TotalSales</th>\n",
       "      <th>OrderCount</th>\n",
       "      <th>AvgOrderValue</th>\n",
       "    </tr>\n",
       "    <tr>\n",
       "      <th>CustomerKey</th>\n",
       "      <th></th>\n",
       "      <th></th>\n",
       "      <th></th>\n",
       "    </tr>\n",
       "  </thead>\n",
       "  <tbody>\n",
       "    <tr>\n",
       "      <th>000155</th>\n",
       "      <td>1.389925</td>\n",
       "      <td>1.256644</td>\n",
       "      <td>1.082904</td>\n",
       "    </tr>\n",
       "    <tr>\n",
       "      <th>000170</th>\n",
       "      <td>1.263784</td>\n",
       "      <td>0.887743</td>\n",
       "      <td>1.273304</td>\n",
       "    </tr>\n",
       "    <tr>\n",
       "      <th>000179</th>\n",
       "      <td>-0.699722</td>\n",
       "      <td>-1.730266</td>\n",
       "      <td>-0.392701</td>\n",
       "    </tr>\n",
       "    <tr>\n",
       "      <th>000182</th>\n",
       "      <td>0.575962</td>\n",
       "      <td>-0.107100</td>\n",
       "      <td>0.809203</td>\n",
       "    </tr>\n",
       "    <tr>\n",
       "      <th>000238</th>\n",
       "      <td>1.247124</td>\n",
       "      <td>0.890123</td>\n",
       "      <td>1.216184</td>\n",
       "    </tr>\n",
       "    <tr>\n",
       "      <th>000244</th>\n",
       "      <td>0.835383</td>\n",
       "      <td>1.078144</td>\n",
       "      <td>0.433161</td>\n",
       "    </tr>\n",
       "    <tr>\n",
       "      <th>000274</th>\n",
       "      <td>1.368505</td>\n",
       "      <td>1.080524</td>\n",
       "      <td>1.256644</td>\n",
       "    </tr>\n",
       "    <tr>\n",
       "      <th>000306</th>\n",
       "      <td>-0.540262</td>\n",
       "      <td>0.580722</td>\n",
       "      <td>-1.063864</td>\n",
       "    </tr>\n",
       "    <tr>\n",
       "      <th>000332</th>\n",
       "      <td>1.180484</td>\n",
       "      <td>1.299484</td>\n",
       "      <td>0.621182</td>\n",
       "    </tr>\n",
       "    <tr>\n",
       "      <th>000342</th>\n",
       "      <td>-1.163824</td>\n",
       "      <td>-1.727886</td>\n",
       "      <td>-1.051964</td>\n",
       "    </tr>\n",
       "  </tbody>\n",
       "</table>\n",
       "</div>"
      ],
      "text/plain": [
       "             TotalSales  OrderCount  AvgOrderValue\n",
       "CustomerKey                                       \n",
       "000155         1.389925    1.256644       1.082904\n",
       "000170         1.263784    0.887743       1.273304\n",
       "000179        -0.699722   -1.730266      -0.392701\n",
       "000182         0.575962   -0.107100       0.809203\n",
       "000238         1.247124    0.890123       1.216184\n",
       "000244         0.835383    1.078144       0.433161\n",
       "000274         1.368505    1.080524       1.256644\n",
       "000306        -0.540262    0.580722      -1.063864\n",
       "000332         1.180484    1.299484       0.621182\n",
       "000342        -1.163824   -1.727886      -1.051964"
      ]
     },
     "execution_count": 11,
     "metadata": {},
     "output_type": "execute_result"
    }
   ],
   "source": [
    "normalized_df = (rank_df - rank_df.mean()) / rank_df.std()\n",
    "normalized_df.head(10)"
   ]
  },
  {
   "cell_type": "markdown",
   "metadata": {},
   "source": [
    "## K-Means Clustering\n",
    "The **k-means clustering** algorithm is a very frequently used algorithm for segmenting customers and understanding their behaviors. Running the algorithm only takes two lines of code: **(1)** importing the KMeans module from scikit-learn and **(2)** writing the one line of code to build the model."
   ]
  },
  {
   "cell_type": "code",
   "execution_count": 12,
   "metadata": {
    "collapsed": true
   },
   "outputs": [],
   "source": [
    "from sklearn.cluster import KMeans"
   ]
  },
  {
   "cell_type": "code",
   "execution_count": 13,
   "metadata": {
    "collapsed": true
   },
   "outputs": [],
   "source": [
    "kmeans = KMeans(n_clusters = 4).fit(normalized_df[['TotalSales','OrderCount','AvgOrderValue']])"
   ]
  },
  {
   "cell_type": "markdown",
   "metadata": {},
   "source": [
    "The above line of code splits the data into four segments based on the total sales, order counts, and average order value. Each cluster is given a label and a centered value which can be obtained below."
   ]
  },
  {
   "cell_type": "code",
   "execution_count": 14,
   "metadata": {
    "collapsed": false
   },
   "outputs": [
    {
     "data": {
      "text/plain": [
       "array([2, 2, 3, ..., 2, 3, 0])"
      ]
     },
     "execution_count": 14,
     "metadata": {},
     "output_type": "execute_result"
    }
   ],
   "source": [
    "kmeans.labels_"
   ]
  },
  {
   "cell_type": "code",
   "execution_count": 15,
   "metadata": {
    "collapsed": false
   },
   "outputs": [
    {
     "data": {
      "text/plain": [
       "array([[ 0.10317335,  0.7168287 , -0.28252184],\n",
       "       [ 0.22644712, -0.84390825,  0.80614783],\n",
       "       [ 1.22313628,  1.01034476,  1.01016313],\n",
       "       [-1.14680716, -0.7949667 , -1.04620661]])"
      ]
     },
     "execution_count": 15,
     "metadata": {},
     "output_type": "execute_result"
    }
   ],
   "source": [
    "kmeans.cluster_centers_"
   ]
  },
  {
   "cell_type": "markdown",
   "metadata": {},
   "source": [
    "**Visualize the clustered data**"
   ]
  },
  {
   "cell_type": "markdown",
   "metadata": {},
   "source": [
    "We begin by making a copy of the normalized dataframe and by adding in the cluster label for each CustomerID."
   ]
  },
  {
   "cell_type": "code",
   "execution_count": 16,
   "metadata": {
    "collapsed": false
   },
   "outputs": [
    {
     "data": {
      "text/html": [
       "<div>\n",
       "<table border=\"1\" class=\"dataframe\">\n",
       "  <thead>\n",
       "    <tr style=\"text-align: right;\">\n",
       "      <th></th>\n",
       "      <th>TotalSales</th>\n",
       "      <th>OrderCount</th>\n",
       "      <th>AvgOrderValue</th>\n",
       "      <th>Cluster</th>\n",
       "    </tr>\n",
       "    <tr>\n",
       "      <th>CustomerKey</th>\n",
       "      <th></th>\n",
       "      <th></th>\n",
       "      <th></th>\n",
       "      <th></th>\n",
       "    </tr>\n",
       "  </thead>\n",
       "  <tbody>\n",
       "    <tr>\n",
       "      <th>000155</th>\n",
       "      <td>1.389925</td>\n",
       "      <td>1.256644</td>\n",
       "      <td>1.082904</td>\n",
       "      <td>2</td>\n",
       "    </tr>\n",
       "    <tr>\n",
       "      <th>000170</th>\n",
       "      <td>1.263784</td>\n",
       "      <td>0.887743</td>\n",
       "      <td>1.273304</td>\n",
       "      <td>2</td>\n",
       "    </tr>\n",
       "    <tr>\n",
       "      <th>000179</th>\n",
       "      <td>-0.699722</td>\n",
       "      <td>-1.730266</td>\n",
       "      <td>-0.392701</td>\n",
       "      <td>3</td>\n",
       "    </tr>\n",
       "    <tr>\n",
       "      <th>000182</th>\n",
       "      <td>0.575962</td>\n",
       "      <td>-0.107100</td>\n",
       "      <td>0.809203</td>\n",
       "      <td>1</td>\n",
       "    </tr>\n",
       "    <tr>\n",
       "      <th>000238</th>\n",
       "      <td>1.247124</td>\n",
       "      <td>0.890123</td>\n",
       "      <td>1.216184</td>\n",
       "      <td>2</td>\n",
       "    </tr>\n",
       "    <tr>\n",
       "      <th>000244</th>\n",
       "      <td>0.835383</td>\n",
       "      <td>1.078144</td>\n",
       "      <td>0.433161</td>\n",
       "      <td>2</td>\n",
       "    </tr>\n",
       "    <tr>\n",
       "      <th>000274</th>\n",
       "      <td>1.368505</td>\n",
       "      <td>1.080524</td>\n",
       "      <td>1.256644</td>\n",
       "      <td>2</td>\n",
       "    </tr>\n",
       "    <tr>\n",
       "      <th>000306</th>\n",
       "      <td>-0.540262</td>\n",
       "      <td>0.580722</td>\n",
       "      <td>-1.063864</td>\n",
       "      <td>0</td>\n",
       "    </tr>\n",
       "    <tr>\n",
       "      <th>000332</th>\n",
       "      <td>1.180484</td>\n",
       "      <td>1.299484</td>\n",
       "      <td>0.621182</td>\n",
       "      <td>2</td>\n",
       "    </tr>\n",
       "    <tr>\n",
       "      <th>000342</th>\n",
       "      <td>-1.163824</td>\n",
       "      <td>-1.727886</td>\n",
       "      <td>-1.051964</td>\n",
       "      <td>3</td>\n",
       "    </tr>\n",
       "  </tbody>\n",
       "</table>\n",
       "</div>"
      ],
      "text/plain": [
       "             TotalSales  OrderCount  AvgOrderValue  Cluster\n",
       "CustomerKey                                                \n",
       "000155         1.389925    1.256644       1.082904        2\n",
       "000170         1.263784    0.887743       1.273304        2\n",
       "000179        -0.699722   -1.730266      -0.392701        3\n",
       "000182         0.575962   -0.107100       0.809203        1\n",
       "000238         1.247124    0.890123       1.216184        2\n",
       "000244         0.835383    1.078144       0.433161        2\n",
       "000274         1.368505    1.080524       1.256644        2\n",
       "000306        -0.540262    0.580722      -1.063864        0\n",
       "000332         1.180484    1.299484       0.621182        2\n",
       "000342        -1.163824   -1.727886      -1.051964        3"
      ]
     },
     "execution_count": 16,
     "metadata": {},
     "output_type": "execute_result"
    }
   ],
   "source": [
    "four_cluster_df = normalized_df[['TotalSales','OrderCount','AvgOrderValue']].copy(deep = True)\n",
    "four_cluster_df['Cluster'] = kmeans.labels_\n",
    "four_cluster_df.head(10)"
   ]
  },
  {
   "cell_type": "markdown",
   "metadata": {},
   "source": [
    "Now that each CustomerID has its cluster value (1-4), we can plot it. Given the three different columns (total sales, order count, and average order value), we can create a few different plots to compare these various columns. Each cluster will be given a different color."
   ]
  },
  {
   "cell_type": "code",
   "execution_count": 17,
   "metadata": {
    "collapsed": false
   },
   "outputs": [
    {
     "data": {
      "image/png": "[encoded data removed]",
      "text/plain": [
       "<matplotlib.figure.Figure at 0x2192b579940>"
      ]
     },
     "metadata": {},
     "output_type": "display_data"
    }
   ],
   "source": [
    "plt.scatter(\n",
    "    four_cluster_df.loc[four_cluster_df['Cluster'] == 0]['OrderCount'],\n",
    "    four_cluster_df.loc[four_cluster_df['Cluster'] == 0]['TotalSales'],\n",
    "    c = 'blue')\n",
    "plt.scatter(\n",
    "    four_cluster_df.loc[four_cluster_df['Cluster'] == 1]['OrderCount'],\n",
    "    four_cluster_df.loc[four_cluster_df['Cluster'] == 1]['TotalSales'],\n",
    "    c = 'red')\n",
    "plt.scatter(\n",
    "    four_cluster_df.loc[four_cluster_df['Cluster'] == 2]['OrderCount'],\n",
    "    four_cluster_df.loc[four_cluster_df['Cluster'] == 2]['TotalSales'],\n",
    "    c = 'orange')\n",
    "plt.scatter(\n",
    "    four_cluster_df.loc[four_cluster_df['Cluster'] == 3]['OrderCount'],\n",
    "    four_cluster_df.loc[four_cluster_df['Cluster'] == 3]['TotalSales'],\n",
    "    c = 'green')\n",
    "\n",
    "plt.title('Total Sales vs. Order Count Clusters')\n",
    "plt.xlabel('Order Count')\n",
    "plt.ylabel('Total Sales')\n",
    "\n",
    "plt.grid()\n",
    "plt.show()"
   ]
  },
  {
   "cell_type": "code",
   "execution_count": 18,
   "metadata": {
    "collapsed": false
   },
   "outputs": [
    {
     "data": {
      "image/png": "[encoded data removed]",
      "text/plain": [
       "<matplotlib.figure.Figure at 0x2192ac1b5c0>"
      ]
     },
     "metadata": {},
     "output_type": "display_data"
    }
   ],
   "source": [
    "plt.scatter(\n",
    "    four_cluster_df.loc[four_cluster_df['Cluster'] == 0]['OrderCount'],\n",
    "    four_cluster_df.loc[four_cluster_df['Cluster'] == 0]['AvgOrderValue'],\n",
    "    c = 'blue')\n",
    "plt.scatter(\n",
    "    four_cluster_df.loc[four_cluster_df['Cluster'] == 1]['OrderCount'],\n",
    "    four_cluster_df.loc[four_cluster_df['Cluster'] == 1]['AvgOrderValue'],\n",
    "    c = 'red')\n",
    "plt.scatter(\n",
    "    four_cluster_df.loc[four_cluster_df['Cluster'] == 2]['OrderCount'],\n",
    "    four_cluster_df.loc[four_cluster_df['Cluster'] == 2]['AvgOrderValue'],\n",
    "    c = 'orange')\n",
    "plt.scatter(\n",
    "    four_cluster_df.loc[four_cluster_df['Cluster'] == 3]['OrderCount'],\n",
    "    four_cluster_df.loc[four_cluster_df['Cluster'] == 3]['AvgOrderValue'],\n",
    "    c = 'green')\n",
    "\n",
    "plt.title('Average Order Value vs. Order Count Clusters')\n",
    "plt.xlabel('Order Count')\n",
    "plt.ylabel('Avg Order Value')\n",
    "\n",
    "plt.grid()\n",
    "plt.show()"
   ]
  },
  {
   "cell_type": "code",
   "execution_count": 19,
   "metadata": {
    "collapsed": false
   },
   "outputs": [
    {
     "data": {
      "image/png": "[encoded data removed]",
      "text/plain": [
       "<matplotlib.figure.Figure at 0x21928543c18>"
      ]
     },
     "metadata": {},
     "output_type": "display_data"
    }
   ],
   "source": [
    "plt.scatter(\n",
    "    four_cluster_df.loc[four_cluster_df['Cluster'] == 0]['TotalSales'],\n",
    "    four_cluster_df.loc[four_cluster_df['Cluster'] == 0]['AvgOrderValue'],\n",
    "    c = 'blue')\n",
    "plt.scatter(\n",
    "    four_cluster_df.loc[four_cluster_df['Cluster'] == 1]['TotalSales'],\n",
    "    four_cluster_df.loc[four_cluster_df['Cluster'] == 1]['AvgOrderValue'],\n",
    "    c = 'red')\n",
    "plt.scatter(\n",
    "    four_cluster_df.loc[four_cluster_df['Cluster'] == 2]['TotalSales'],\n",
    "    four_cluster_df.loc[four_cluster_df['Cluster'] == 2]['AvgOrderValue'],\n",
    "    c = 'orange')\n",
    "plt.scatter(\n",
    "    four_cluster_df.loc[four_cluster_df['Cluster'] == 3]['TotalSales'],\n",
    "    four_cluster_df.loc[four_cluster_df['Cluster'] == 3]['AvgOrderValue'],\n",
    "    c = 'green')\n",
    "\n",
    "plt.title('Average Order Value vs. Total Sales Clusters')\n",
    "plt.xlabel('Total Sales')\n",
    "plt.ylabel('Avg Order Value')\n",
    "\n",
    "plt.grid()\n",
    "plt.show()"
   ]
  },
  {
   "cell_type": "markdown",
   "metadata": {},
   "source": [
    "## Determining the Best Number of Clusters\n",
    "We normally do not know how many clusters to choose. In this case, we began by selecting four clusters. We can use a method of scoring called the **silhouette coefficient** to determine how many clusters to choose. We will run the KMeans algorithm through a loop of cluster values and record the silhouette scores for each cluster. After running the loop, we will print the results and look for the cluster value with the highest score (ranging from 0-1)."
   ]
  },
  {
   "cell_type": "code",
   "execution_count": 20,
   "metadata": {
    "collapsed": true
   },
   "outputs": [],
   "source": [
    "from sklearn.metrics import silhouette_score"
   ]
  },
  {
   "cell_type": "code",
   "execution_count": 23,
   "metadata": {
    "collapsed": false
   },
   "outputs": [
    {
     "name": "stdout",
     "output_type": "stream",
     "text": [
      "Silhouette Score for 4 Clusters: 0.4232\n",
      "Silhouette Score for 5 Clusters: 0.3822\n",
      "Silhouette Score for 6 Clusters: 0.3626\n",
      "Silhouette Score for 7 Clusters: 0.3764\n",
      "Silhouette Score for 8 Clusters: 0.3635\n"
     ]
    }
   ],
   "source": [
    "for n_cluster in [4,5,6,7,8]:\n",
    "    kmeans = KMeans(n_clusters = n_cluster).fit(\n",
    "        normalized_df[['TotalSales','OrderCount','AvgOrderValue']]\n",
    "    )\n",
    "    silhouette_avg = silhouette_score(\n",
    "        normalized_df[['TotalSales','OrderCount','AvgOrderValue']],\n",
    "        kmeans.labels_\n",
    "    )\n",
    "    print('Silhouette Score for %i Clusters: %0.4f' % (n_cluster, silhouette_avg))"
   ]
  },
  {
   "cell_type": "markdown",
   "metadata": {},
   "source": [
    "In this case, we did have the best number of clusters chosen since four clusters had the highest silhouette score of 0.4117."
   ]
  },
  {
   "cell_type": "markdown",
   "metadata": {},
   "source": [
    "## Insights from Customer Segments\n",
    "Now that customers are segmented, what is next? We can analyze the results to determine customer trends and can identify frequently purchased items amongst customers in each segment."
   ]
  },
  {
   "cell_type": "markdown",
   "metadata": {},
   "source": [
    "First, we do need to redo our k-means clustering model using four clusters (the loop in the previous section left off with eight clusters so we want to make sure we are using the best model)."
   ]
  },
  {
   "cell_type": "code",
   "execution_count": 24,
   "metadata": {
    "collapsed": true
   },
   "outputs": [],
   "source": [
    "kmeans = KMeans(n_clusters = 4).fit(\n",
    "    normalized_df[['TotalSales','OrderCount','AvgOrderValue']]\n",
    "    )\n",
    "four_cluster_df = normalized_df[['TotalSales','OrderCount','AvgOrderValue']].copy(deep = True)\n",
    "four_cluster_df['Cluster'] = kmeans.labels_"
   ]
  },
  {
   "cell_type": "markdown",
   "metadata": {},
   "source": [
    "We can look at the cluster centers for each cluster and attribute. We can use the cluster_centers_ code to list out these values in an array but we will go one step further and place these into an easy to read dataframe."
   ]
  },
  {
   "cell_type": "code",
   "execution_count": 25,
   "metadata": {
    "collapsed": false
   },
   "outputs": [
    {
     "data": {
      "text/plain": [
       "array([[ 0.10317335,  0.7168287 , -0.28252184],\n",
       "       [-1.14680716, -0.7949667 , -1.04620661],\n",
       "       [ 0.22644712, -0.84390825,  0.80614783],\n",
       "       [ 1.22313628,  1.01034476,  1.01016313]])"
      ]
     },
     "execution_count": 25,
     "metadata": {},
     "output_type": "execute_result"
    }
   ],
   "source": [
    "kmeans.cluster_centers_"
   ]
  },
  {
   "cell_type": "code",
   "execution_count": 26,
   "metadata": {
    "collapsed": false
   },
   "outputs": [
    {
     "data": {
      "text/html": [
       "<div>\n",
       "<table border=\"1\" class=\"dataframe\">\n",
       "  <thead>\n",
       "    <tr style=\"text-align: right;\">\n",
       "      <th></th>\n",
       "      <th>TotalSales</th>\n",
       "      <th>OrderCount</th>\n",
       "      <th>AvgOrderValue</th>\n",
       "    </tr>\n",
       "  </thead>\n",
       "  <tbody>\n",
       "    <tr>\n",
       "      <th>Cluster 0</th>\n",
       "      <td>0.103173</td>\n",
       "      <td>0.716829</td>\n",
       "      <td>-0.282522</td>\n",
       "    </tr>\n",
       "    <tr>\n",
       "      <th>Cluster 1</th>\n",
       "      <td>-1.146807</td>\n",
       "      <td>-0.794967</td>\n",
       "      <td>-1.046207</td>\n",
       "    </tr>\n",
       "    <tr>\n",
       "      <th>Cluster 2</th>\n",
       "      <td>0.226447</td>\n",
       "      <td>-0.843908</td>\n",
       "      <td>0.806148</td>\n",
       "    </tr>\n",
       "    <tr>\n",
       "      <th>Cluster 3</th>\n",
       "      <td>1.223136</td>\n",
       "      <td>1.010345</td>\n",
       "      <td>1.010163</td>\n",
       "    </tr>\n",
       "  </tbody>\n",
       "</table>\n",
       "</div>"
      ],
      "text/plain": [
       "           TotalSales  OrderCount  AvgOrderValue\n",
       "Cluster 0    0.103173    0.716829      -0.282522\n",
       "Cluster 1   -1.146807   -0.794967      -1.046207\n",
       "Cluster 2    0.226447   -0.843908       0.806148\n",
       "Cluster 3    1.223136    1.010345       1.010163"
      ]
     },
     "execution_count": 26,
     "metadata": {},
     "output_type": "execute_result"
    }
   ],
   "source": [
    "clusters_df = pd.DataFrame(data = kmeans.cluster_centers_,\n",
    "                           index = ['Cluster 0','Cluster 1','Cluster 2','Cluster 3'],\n",
    "                           columns = ['TotalSales','OrderCount','AvgOrderValue']\n",
    "                          )\n",
    "clusters_df"
   ]
  },
  {
   "cell_type": "markdown",
   "metadata": {},
   "source": [
    "The above table gives us the normalized values of the cluster centers. We see that cluster 2 has the highest values for all three attributes - these are the high-value customers who bring in a lot of business. Cluster 1 are low-value customers because they have the lowest values in total sales and average order value. Cluster 3 does have a lower value in order count but it is very close to cluster 1. Cluster 3 has a high average order value though so we can infer that cluster 3 customers have infrequent purchases but they have a great average value though."
   ]
  },
  {
   "cell_type": "markdown",
   "metadata": {},
   "source": [
    "We can also assign the cluster values to the original **customer_df** in order to see the actual values instead of the normalized values."
   ]
  },
  {
   "cell_type": "code",
   "execution_count": 32,
   "metadata": {
    "collapsed": false
   },
   "outputs": [
    {
     "data": {
      "text/html": [
       "<div>\n",
       "<table border=\"1\" class=\"dataframe\">\n",
       "  <thead>\n",
       "    <tr style=\"text-align: right;\">\n",
       "      <th></th>\n",
       "      <th>TotalSales</th>\n",
       "      <th>OrderCount</th>\n",
       "      <th>AvgOrderValue</th>\n",
       "      <th>Cluster</th>\n",
       "    </tr>\n",
       "    <tr>\n",
       "      <th>CustomerKey</th>\n",
       "      <th></th>\n",
       "      <th></th>\n",
       "      <th></th>\n",
       "      <th></th>\n",
       "    </tr>\n",
       "  </thead>\n",
       "  <tbody>\n",
       "    <tr>\n",
       "      <th>000155</th>\n",
       "      <td>14104.74</td>\n",
       "      <td>7</td>\n",
       "      <td>2014.962857</td>\n",
       "      <td>3</td>\n",
       "    </tr>\n",
       "    <tr>\n",
       "      <th>000170</th>\n",
       "      <td>10730.16</td>\n",
       "      <td>4</td>\n",
       "      <td>2682.540000</td>\n",
       "      <td>3</td>\n",
       "    </tr>\n",
       "    <tr>\n",
       "      <th>000179</th>\n",
       "      <td>365.52</td>\n",
       "      <td>1</td>\n",
       "      <td>365.520000</td>\n",
       "      <td>1</td>\n",
       "    </tr>\n",
       "    <tr>\n",
       "      <th>000182</th>\n",
       "      <td>2753.28</td>\n",
       "      <td>2</td>\n",
       "      <td>1376.640000</td>\n",
       "      <td>2</td>\n",
       "    </tr>\n",
       "    <tr>\n",
       "      <th>000238</th>\n",
       "      <td>9872.44</td>\n",
       "      <td>4</td>\n",
       "      <td>2468.110000</td>\n",
       "      <td>3</td>\n",
       "    </tr>\n",
       "    <tr>\n",
       "      <th>000244</th>\n",
       "      <td>4490.97</td>\n",
       "      <td>5</td>\n",
       "      <td>898.194000</td>\n",
       "      <td>3</td>\n",
       "    </tr>\n",
       "    <tr>\n",
       "      <th>000274</th>\n",
       "      <td>13161.83</td>\n",
       "      <td>5</td>\n",
       "      <td>2632.366000</td>\n",
       "      <td>3</td>\n",
       "    </tr>\n",
       "    <tr>\n",
       "      <th>000306</th>\n",
       "      <td>488.28</td>\n",
       "      <td>3</td>\n",
       "      <td>162.760000</td>\n",
       "      <td>0</td>\n",
       "    </tr>\n",
       "    <tr>\n",
       "      <th>000332</th>\n",
       "      <td>8594.14</td>\n",
       "      <td>8</td>\n",
       "      <td>1074.267500</td>\n",
       "      <td>3</td>\n",
       "    </tr>\n",
       "    <tr>\n",
       "      <th>000342</th>\n",
       "      <td>166.25</td>\n",
       "      <td>1</td>\n",
       "      <td>166.250000</td>\n",
       "      <td>1</td>\n",
       "    </tr>\n",
       "    <tr>\n",
       "      <th>000356</th>\n",
       "      <td>7926.73</td>\n",
       "      <td>3</td>\n",
       "      <td>2642.243333</td>\n",
       "      <td>3</td>\n",
       "    </tr>\n",
       "    <tr>\n",
       "      <th>000374</th>\n",
       "      <td>55.33</td>\n",
       "      <td>2</td>\n",
       "      <td>27.665000</td>\n",
       "      <td>1</td>\n",
       "    </tr>\n",
       "    <tr>\n",
       "      <th>000384</th>\n",
       "      <td>656.36</td>\n",
       "      <td>2</td>\n",
       "      <td>328.180000</td>\n",
       "      <td>0</td>\n",
       "    </tr>\n",
       "    <tr>\n",
       "      <th>000403</th>\n",
       "      <td>165.36</td>\n",
       "      <td>1</td>\n",
       "      <td>165.360000</td>\n",
       "      <td>1</td>\n",
       "    </tr>\n",
       "    <tr>\n",
       "      <th>000433</th>\n",
       "      <td>938.61</td>\n",
       "      <td>3</td>\n",
       "      <td>312.870000</td>\n",
       "      <td>0</td>\n",
       "    </tr>\n",
       "    <tr>\n",
       "      <th>000486</th>\n",
       "      <td>96.60</td>\n",
       "      <td>2</td>\n",
       "      <td>48.300000</td>\n",
       "      <td>1</td>\n",
       "    </tr>\n",
       "    <tr>\n",
       "      <th>000627</th>\n",
       "      <td>3104.92</td>\n",
       "      <td>11</td>\n",
       "      <td>282.265455</td>\n",
       "      <td>0</td>\n",
       "    </tr>\n",
       "    <tr>\n",
       "      <th>000629</th>\n",
       "      <td>621.50</td>\n",
       "      <td>1</td>\n",
       "      <td>621.500000</td>\n",
       "      <td>2</td>\n",
       "    </tr>\n",
       "    <tr>\n",
       "      <th>000696</th>\n",
       "      <td>7718.93</td>\n",
       "      <td>5</td>\n",
       "      <td>1543.786000</td>\n",
       "      <td>3</td>\n",
       "    </tr>\n",
       "    <tr>\n",
       "      <th>000729</th>\n",
       "      <td>3631.92</td>\n",
       "      <td>4</td>\n",
       "      <td>907.980000</td>\n",
       "      <td>3</td>\n",
       "    </tr>\n",
       "  </tbody>\n",
       "</table>\n",
       "</div>"
      ],
      "text/plain": [
       "             TotalSales  OrderCount  AvgOrderValue  Cluster\n",
       "CustomerKey                                                \n",
       "000155         14104.74           7    2014.962857        3\n",
       "000170         10730.16           4    2682.540000        3\n",
       "000179           365.52           1     365.520000        1\n",
       "000182          2753.28           2    1376.640000        2\n",
       "000238          9872.44           4    2468.110000        3\n",
       "000244          4490.97           5     898.194000        3\n",
       "000274         13161.83           5    2632.366000        3\n",
       "000306           488.28           3     162.760000        0\n",
       "000332          8594.14           8    1074.267500        3\n",
       "000342           166.25           1     166.250000        1\n",
       "000356          7926.73           3    2642.243333        3\n",
       "000374            55.33           2      27.665000        1\n",
       "000384           656.36           2     328.180000        0\n",
       "000403           165.36           1     165.360000        1\n",
       "000433           938.61           3     312.870000        0\n",
       "000486            96.60           2      48.300000        1\n",
       "000627          3104.92          11     282.265455        0\n",
       "000629           621.50           1     621.500000        2\n",
       "000696          7718.93           5    1543.786000        3\n",
       "000729          3631.92           4     907.980000        3"
      ]
     },
     "execution_count": 32,
     "metadata": {},
     "output_type": "execute_result"
    }
   ],
   "source": [
    "actuals_df = customer_df[['TotalSales','OrderCount','AvgOrderValue']].copy(deep = True)\n",
    "actuals_df['Cluster'] = kmeans.labels_\n",
    "actuals_df.head(20)"
   ]
  },
  {
   "cell_type": "markdown",
   "metadata": {},
   "source": [
    "We can also look at the best selling items for each customer segment. Let's look at cluster 2, our high-value customers."
   ]
  },
  {
   "cell_type": "code",
   "execution_count": 28,
   "metadata": {
    "collapsed": true
   },
   "outputs": [],
   "source": [
    "high_value_cluster = four_cluster_df.loc[four_cluster_df['Cluster'] == 3]"
   ]
  },
  {
   "cell_type": "code",
   "execution_count": 31,
   "metadata": {
    "collapsed": false
   },
   "outputs": [
    {
     "data": {
      "text/html": [
       "<div>\n",
       "<table border=\"1\" class=\"dataframe\">\n",
       "  <thead>\n",
       "    <tr style=\"text-align: right;\">\n",
       "      <th></th>\n",
       "      <th>Product</th>\n",
       "    </tr>\n",
       "    <tr>\n",
       "      <th>Title</th>\n",
       "      <th></th>\n",
       "    </tr>\n",
       "  </thead>\n",
       "  <tbody>\n",
       "    <tr>\n",
       "      <th>THREE LITTLE PIGS</th>\n",
       "      <td>475</td>\n",
       "    </tr>\n",
       "    <tr>\n",
       "      <th>THREE BILLY GOATS GRUFF</th>\n",
       "      <td>460</td>\n",
       "    </tr>\n",
       "    <tr>\n",
       "      <th>SHARKS</th>\n",
       "      <td>452</td>\n",
       "    </tr>\n",
       "    <tr>\n",
       "      <th>BIG DOG AND LITTLE DOG GREEN LIGHT READER LEVEL 1</th>\n",
       "      <td>436</td>\n",
       "    </tr>\n",
       "    <tr>\n",
       "      <th>KING AND KAYLA AND THE CASE OF THE MISSING DOG TREATS</th>\n",
       "      <td>436</td>\n",
       "    </tr>\n",
       "    <tr>\n",
       "      <th>SUBWAY RIDE</th>\n",
       "      <td>414</td>\n",
       "    </tr>\n",
       "    <tr>\n",
       "      <th>PUG</th>\n",
       "      <td>406</td>\n",
       "    </tr>\n",
       "    <tr>\n",
       "      <th>PEDRO'S MYSTERY CLUB</th>\n",
       "      <td>399</td>\n",
       "    </tr>\n",
       "    <tr>\n",
       "      <th>PEDRO FOR PRESIDENT</th>\n",
       "      <td>387</td>\n",
       "    </tr>\n",
       "    <tr>\n",
       "      <th>PLAY BALL</th>\n",
       "      <td>376</td>\n",
       "    </tr>\n",
       "    <tr>\n",
       "      <th>I SEE AND SEE</th>\n",
       "      <td>371</td>\n",
       "    </tr>\n",
       "    <tr>\n",
       "      <th>LOOKING FOR BONGO</th>\n",
       "      <td>370</td>\n",
       "    </tr>\n",
       "    <tr>\n",
       "      <th>KING &amp; KAYLA AND THE CASE OF THE LOST TOOTH</th>\n",
       "      <td>370</td>\n",
       "    </tr>\n",
       "    <tr>\n",
       "      <th>WEATHER</th>\n",
       "      <td>357</td>\n",
       "    </tr>\n",
       "    <tr>\n",
       "      <th>ZOEY AND SASSAFRAS 01 DRAGONS AND MARSHMALLOWS</th>\n",
       "      <td>356</td>\n",
       "    </tr>\n",
       "    <tr>\n",
       "      <th>KATIE WOO KATIE AND THE HAUNTED MUSEUM</th>\n",
       "      <td>347</td>\n",
       "    </tr>\n",
       "    <tr>\n",
       "      <th>KING AND KAYLA AND THE CASE OF THE SECRET CODE</th>\n",
       "      <td>344</td>\n",
       "    </tr>\n",
       "    <tr>\n",
       "      <th>WHOOSH LONNIE JOHNSON'S SUPER-SOAKING STREAM OF INVENTIONS</th>\n",
       "      <td>335</td>\n",
       "    </tr>\n",
       "    <tr>\n",
       "      <th>PEEPER AND ZEEP</th>\n",
       "      <td>332</td>\n",
       "    </tr>\n",
       "    <tr>\n",
       "      <th>3 2 1 GO</th>\n",
       "      <td>330</td>\n",
       "    </tr>\n",
       "  </tbody>\n",
       "</table>\n",
       "</div>"
      ],
      "text/plain": [
       "                                                    Product\n",
       "Title                                                      \n",
       "THREE LITTLE PIGS                                       475\n",
       "THREE BILLY GOATS GRUFF                                 460\n",
       "SHARKS                                                  452\n",
       "BIG DOG AND LITTLE DOG GREEN LIGHT READER LEVEL 1       436\n",
       "KING AND KAYLA AND THE CASE OF THE MISSING DOG ...      436\n",
       "SUBWAY RIDE                                             414\n",
       "PUG                                                     406\n",
       "PEDRO'S MYSTERY CLUB                                    399\n",
       "PEDRO FOR PRESIDENT                                     387\n",
       "PLAY BALL                                               376\n",
       "I SEE AND SEE                                           371\n",
       "LOOKING FOR BONGO                                       370\n",
       "KING & KAYLA AND THE CASE OF THE LOST TOOTH             370\n",
       "WEATHER                                                 357\n",
       "ZOEY AND SASSAFRAS 01 DRAGONS AND MARSHMALLOWS          356\n",
       "KATIE WOO KATIE AND THE HAUNTED MUSEUM                  347\n",
       "KING AND KAYLA AND THE CASE OF THE SECRET CODE          344\n",
       "WHOOSH LONNIE JOHNSON'S SUPER-SOAKING STREAM OF...      335\n",
       "PEEPER AND ZEEP                                         332\n",
       "3 2 1 GO                                                330"
      ]
     },
     "execution_count": 31,
     "metadata": {},
     "output_type": "execute_result"
    }
   ],
   "source": [
    "pd.DataFrame(\n",
    "    df.loc[\n",
    "        df['CustomerKey'].isin(high_value_cluster.index)\n",
    "    ].groupby('Title').count()[\n",
    "        'Product'\n",
    "    ].sort_values(ascending = False).head(20)\n",
    ")"
   ]
  },
  {
   "cell_type": "code",
   "execution_count": null,
   "metadata": {
    "collapsed": true
   },
   "outputs": [],
   "source": []
  }
 ],
 "metadata": {
  "anaconda-cloud": {},
  "kernelspec": {
   "display_name": "Python [default]",
   "language": "python",
   "name": "python3"
  },
  "language_info": {
   "codemirror_mode": {
    "name": "ipython",
    "version": 3
   },
   "file_extension": ".py",
   "mimetype": "text/x-python",
   "name": "python",
   "nbconvert_exporter": "python",
   "pygments_lexer": "ipython3",
   "version": "3.5.2"
  }
 },
 "nbformat": 4,
 "nbformat_minor": 4
}
